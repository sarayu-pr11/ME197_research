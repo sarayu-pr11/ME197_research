{
  "cells": [
    {
      "cell_type": "markdown",
      "metadata": {},
      "source": [
        "# \ud83d\udcca EMG2Pose Dataset - Exploratory Data Analysis (EDA)"
      ]
    },
    {
      "cell_type": "code",
      "execution_count": null,
      "metadata": {},
      "outputs": [],
      "source": [
        "import pandas as pd\n",
        "import matplotlib.pyplot as plt\n",
        "import seaborn as sns\n",
        "import h5py\n",
        "import os\n",
        "import numpy as np"
      ]
    },
    {
      "cell_type": "markdown",
      "metadata": {},
      "source": [
        "## \ud83d\udcc1 Load Metadata"
      ]
    },
    {
      "cell_type": "code",
      "execution_count": null,
      "metadata": {},
      "outputs": [],
      "source": [
        "metadata = pd.read_csv('../data/metadata.csv')\n",
        "metadata.head()"
      ]
    },
    {
      "cell_type": "markdown",
      "metadata": {},
      "source": [
        "## \ud83d\udd0d Data Split Distribution"
      ]
    },
    {
      "cell_type": "code",
      "execution_count": null,
      "metadata": {},
      "outputs": [],
      "source": [
        "sns.countplot(x='split', data=metadata)\n",
        "plt.title(\"Data Split Distribution\")\n",
        "plt.xlabel(\"Split\")\n",
        "plt.ylabel(\"Number of Samples\")\n",
        "plt.show()"
      ]
    },
    {
      "cell_type": "markdown",
      "metadata": {},
      "source": [
        "## \ud83d\udc65 Distribution of Samples per User"
      ]
    },
    {
      "cell_type": "code",
      "execution_count": null,
      "metadata": {},
      "outputs": [],
      "source": [
        "metadata['user'].value_counts().plot(kind='hist', bins=20, title='Samples per User')\n",
        "plt.xlabel(\"Sample count\")\n",
        "plt.show()"
      ]
    },
    {
      "cell_type": "markdown",
      "metadata": {},
      "source": [
        "## \u2699\ufe0f Generalization Strategy Distribution"
      ]
    },
    {
      "cell_type": "code",
      "execution_count": null,
      "metadata": {},
      "outputs": [],
      "source": [
        "sns.countplot(x='generalization', data=metadata)\n",
        "plt.title(\"Generalization Strategy\")\n",
        "plt.xticks(rotation=45)\n",
        "plt.show()"
      ]
    },
    {
      "cell_type": "markdown",
      "metadata": {},
      "source": [
        "## \ud83d\udd90 Moving Hand by Hand Side"
      ]
    },
    {
      "cell_type": "code",
      "execution_count": null,
      "metadata": {},
      "outputs": [],
      "source": [
        "sns.countplot(x='moving_hand', hue='side', data=metadata)\n",
        "plt.title(\"Moving Hand by Side\")\n",
        "plt.show()"
      ]
    },
    {
      "cell_type": "markdown",
      "metadata": {},
      "source": [
        "## \ud83d\udd2c Load Sample EMG and Pose Data"
      ]
    },
    {
      "cell_type": "code",
      "execution_count": null,
      "metadata": {},
      "outputs": [],
      "source": [
        "sample_row = metadata.iloc[0]\n",
        "sample_file = f\"../data/{sample_row['user']}_{sample_row['session']}_{sample_row['stage']}.h5\"\n",
        "\n",
        "with h5py.File(sample_file, 'r') as f:\n",
        "    emg = f['emg'][:]\n",
        "    pose = f['pose'][:]\n",
        "    print(\"EMG shape:\", emg.shape)\n",
        "    print(\"Pose shape:\", pose.shape)"
      ]
    },
    {
      "cell_type": "markdown",
      "metadata": {},
      "source": [
        "## \ud83d\udcc8 Visualize EMG Channels"
      ]
    },
    {
      "cell_type": "code",
      "execution_count": null,
      "metadata": {},
      "outputs": [],
      "source": [
        "plt.figure(figsize=(12, 6))\n",
        "for i in range(min(emg.shape[1], 8)):\n",
        "    plt.plot(emg[:200, i], label=f'EMG channel {i}')\n",
        "plt.title(\"First 200 EMG Samples\")\n",
        "plt.xlabel(\"Timestep\")\n",
        "plt.ylabel(\"Signal\")\n",
        "plt.legend()\n",
        "plt.show()"
      ]
    },
    {
      "cell_type": "markdown",
      "metadata": {},
      "source": [
        "## \ud83e\udd16 Visualize Pose Channels"
      ]
    },
    {
      "cell_type": "code",
      "execution_count": null,
      "metadata": {},
      "outputs": [],
      "source": [
        "plt.figure(figsize=(12, 6))\n",
        "for i in range(min(pose.shape[1], 5)):\n",
        "    plt.plot(pose[:200, i], label=f'Pose joint {i}')\n",
        "plt.title(\"First 200 Pose Samples\")\n",
        "plt.xlabel(\"Timestep\")\n",
        "plt.ylabel(\"Angle\")\n",
        "plt.legend()\n",
        "plt.show()"
      ]
    }
  ],
  "metadata": {
    "kernelspec": {
      "display_name": "Python 3",
      "language": "python",
      "name": "python3"
    },
    "language_info": {
      "name": "python",
      "version": "3.8"
    }
  },
  "nbformat": 4,
  "nbformat_minor": 2
}